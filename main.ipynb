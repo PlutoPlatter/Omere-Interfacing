{
 "cells": [
  {
   "cell_type": "code",
   "execution_count": null,
   "id": "7b207398",
   "metadata": {},
   "outputs": [
    {
     "name": "stdout",
     "output_type": "stream",
     "text": [
      "ready\n"
     ]
    }
   ],
   "source": [
    "from pywinauto import Application\n",
    "\n",
    "# Start the Calculator application\n",
    "# app = Application().start(\"calc.exe\")\n",
    "\n",
    "app = Application().start(\"C:\\Program Files (x86)\\TRAD\\OMERE 5.9\\Omere.exe\")\n",
    "\n",
    "# To wait until the application is ready, the following lines can be used\n",
    "main_window = app.window(title_re=\" - OMERE\")  # Adjust the title regex as needed\n",
    "main_window.wait('ready')\n",
    "\n",
    "# Select the Notepad window\n",
    "# notepad = app.window(title_re=\".*Notepad\")\n",
    "\n",
    "# Type some text\n",
    "# notepad.Edit.type_keys(\"Hello, Pywinauto!\", with_spaces=True)\n",
    "\n",
    "# Save the file\n",
    "# notepad.menu_select(\"File -> Save As\")\n"
   ]
  },
  {
   "cell_type": "code",
   "execution_count": 14,
   "id": "da81ee0e",
   "metadata": {},
   "outputs": [],
   "source": [
    "# Save the file\n",
    "notepad.menu_select(\"File -> Open\")"
   ]
  },
  {
   "cell_type": "code",
   "execution_count": 15,
   "id": "f5ce6c08",
   "metadata": {},
   "outputs": [
    {
     "data": {
      "text/plain": [
       "<bound method HwndWrapper.menu_select of <hwndwrapper.DialogWrapper - '*Untitled - Notepad', Notepad, 14747602>>"
      ]
     },
     "execution_count": 15,
     "metadata": {},
     "output_type": "execute_result"
    }
   ],
   "source": [
    "notepad.menu_select"
   ]
  },
  {
   "cell_type": "code",
   "execution_count": 21,
   "id": "5fba89d3",
   "metadata": {},
   "outputs": [
    {
     "name": "stdout",
     "output_type": "stream",
     "text": [
      "[<uiawrapper.UIAWrapper - 'Taskbar', Pane, 7613292953432945917>, <uiawrapper.UIAWrapper - '', Pane, -708776319775191821>, <uiawrapper.UIAWrapper - '● main.ipynb - Omere - Visual Studio Code', Pane, 1907075361237128477>, <uiawrapper.UIAWrapper - ' - OMERE', Dialog, -2653296424561288617>, <uiawrapper.UIAWrapper - '(3) Using Git with Visual Studio Code (Official Beginner Tutorial) - YouTube - High memory usage - 817 MB - Google Chrome - Frankie', Pane, -3333171579837884482>, <uiawrapper.UIAWrapper - 'Omere', Dialog, -7277134198887094996>, <uiawrapper.UIAWrapper - 'Circulating Currents - OneNote', Dialog, -61082991215288450>, <uiawrapper.UIAWrapper - 'WhatsApp', Dialog, -8458851694633473748>, <uiawrapper.UIAWrapper - '', Dialog, -4280156588882979466>, <uiawrapper.UIAWrapper - 'NVIDIA GeForce Overlay', Pane, 4540947496518579586>, <uiawrapper.UIAWrapper - 'OMERE 5.9', Dialog, -5862387218510997977>, <uiawrapper.UIAWrapper - 'Program Manager', Pane, -3246301815749617940>]\n"
     ]
    }
   ],
   "source": [
    "from pywinauto import Desktop\n",
    "\n",
    "# Get a list of all currently open windows\n",
    "windows = Desktop(backend=\"uia\").windows()\n",
    "print(windows)"
   ]
  },
  {
   "cell_type": "code",
   "execution_count": 9,
   "id": "9a1816a4",
   "metadata": {},
   "outputs": [
    {
     "data": {
      "text/plain": [
       "<uiawrapper.UIAWrapper - 'Omere', Dialog, -7277134198887094996>"
      ]
     },
     "execution_count": 9,
     "metadata": {},
     "output_type": "execute_result"
    }
   ],
   "source": [
    "windows[3]"
   ]
  },
  {
   "cell_type": "code",
   "execution_count": null,
   "id": "84d2a615",
   "metadata": {},
   "outputs": [],
   "source": []
  }
 ],
 "metadata": {
  "kernelspec": {
   "display_name": "base",
   "language": "python",
   "name": "python3"
  },
  "language_info": {
   "codemirror_mode": {
    "name": "ipython",
    "version": 3
   },
   "file_extension": ".py",
   "mimetype": "text/x-python",
   "name": "python",
   "nbconvert_exporter": "python",
   "pygments_lexer": "ipython3",
   "version": "3.8.8"
  }
 },
 "nbformat": 4,
 "nbformat_minor": 5
}
